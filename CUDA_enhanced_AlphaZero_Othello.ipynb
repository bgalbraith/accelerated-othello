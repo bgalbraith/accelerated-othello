{
  "nbformat": 4,
  "nbformat_minor": 0,
  "metadata": {
    "colab": {
      "name": "CUDA-enhanced AlphaZero Othello",
      "provenance": [],
      "collapsed_sections": [
        "e__uazYQbsCB",
        "DpdcYBSidYKY",
        "5nf_fwRIcGB8",
        "7Gsg-8LU7Vbu",
        "Fq38eKnLgT9Y"
      ],
      "authorship_tag": "ABX9TyN9gJoOuuheG8qZoPI52Y9f",
      "include_colab_link": true
    },
    "kernelspec": {
      "name": "python3",
      "display_name": "Python 3"
    },
    "accelerator": "GPU"
  },
  "cells": [
    {
      "cell_type": "markdown",
      "metadata": {
        "id": "view-in-github",
        "colab_type": "text"
      },
      "source": [
        "<a href=\"https://colab.research.google.com/github/bgalbraith/accelerated-othello/blob/main/CUDA_enhanced_AlphaZero_Othello.ipynb\" target=\"_parent\"><img src=\"https://colab.research.google.com/assets/colab-badge.svg\" alt=\"Open In Colab\"/></a>"
      ]
    },
    {
      "cell_type": "markdown",
      "metadata": {
        "id": "huH__MYe70FB"
      },
      "source": [
        "# Introduction\n",
        "\n",
        "This is an initial pass at implementing massively parallel support for MCTS experiments using the game Othello.\n",
        "\n",
        "It is based on custom CUDA kernels implemented via Numba's CUDA JIT capabilities.\n",
        "\n",
        "Currently, the code does the following:\n",
        "Given a number of games to evaluate in parallel, a starting board configuration, and the player who's turn it is, play all the games out to completion by taking random actions for each player. The final output is a vector indicating which player won each game or if it was a draw."
      ]
    },
    {
      "cell_type": "code",
      "metadata": {
        "id": "SuH5wxFyD9pg"
      },
      "source": [
        "import math\n",
        "import os\n",
        "import time\n",
        "\n",
        "from numba import jit, cuda, float32, int32\n",
        "import numpy as np\n",
        "from tqdm.notebook import tqdm\n",
        "import torch\n",
        "from torch import nn\n",
        "import torch.nn.functional as F"
      ],
      "execution_count": 4,
      "outputs": []
    },
    {
      "cell_type": "markdown",
      "metadata": {
        "id": "0guOT7ex8_eV"
      },
      "source": [
        "## Setting up Numba for CUDA\n",
        "\n",
        "In order for Numba to JIT compile CUDA kernels, it needs to know where the appropriate system libraries are. This is done using environment variables. The below values should be safe for Google Colab, but if an error occurs when attempting to compile, running the following in a cell will give you an idea of which paths to use:\n",
        "```\n",
        "!find / -iname 'libdevice'\n",
        "!find / -iname 'libnvvm.so'\n",
        "```"
      ]
    },
    {
      "cell_type": "code",
      "metadata": {
        "id": "i5Du8HNlERtL"
      },
      "source": [
        "os.environ['NUMBAPRO_LIBDEVICE'] = \"/usr/local/cuda-10.0/nvvm/libdevice\"\n",
        "os.environ['NUMBAPRO_NVVM'] = \"/usr/local/cuda-10.0/nvvm/lib64/libnvvm.so\""
      ],
      "execution_count": 5,
      "outputs": []
    },
    {
      "cell_type": "markdown",
      "metadata": {
        "id": "llkSnCc_98Yv"
      },
      "source": [
        "We set the number of games as a constant here. We also use a ray-casting strategy for finding valid moves in Othello, so we establish the eight possible ray directions here as well. Note the dtype is set to `np.int32`. This is because we will be loading this onto the GPU later, and it's better to use 32-bit data types (`int32`, `float32`) for GPU ops unless you really need the higher precision."
      ]
    },
    {
      "cell_type": "code",
      "metadata": {
        "id": "kBB831jAEftR"
      },
      "source": [
        "N_GAMES = 32\n",
        "N_SIMULATIONS = 10\n",
        "MAX_STATES = N_SIMULATIONS * 60  # upper bound\n",
        "EPS = np.finfo(np.float32).eps\n",
        "RAYS = np.array([[0, 1],  # east\n",
        "                 [0, -1],  # west\n",
        "                 [1, 0],  # south\n",
        "                 [-1, 0],  # north\n",
        "                 [1, 1],  # southeast\n",
        "                 [1 , -1],  # southwest\n",
        "                 [-1, 1],  # northeast\n",
        "                 [-1, -1]  # northwest\n",
        "                 ], dtype=np.int32)"
      ],
      "execution_count": 31,
      "outputs": []
    },
    {
      "cell_type": "markdown",
      "metadata": {
        "id": "e__uazYQbsCB"
      },
      "source": [
        "# CUDA kernels"
      ]
    },
    {
      "cell_type": "code",
      "metadata": {
        "id": "PVoms9nrrwyx",
        "cellView": "form"
      },
      "source": [
        "#@title ray_cast\n",
        "@cuda.jit(device=True)\n",
        "def ray_cast(board, y0, x0, ray, player):\n",
        "  opponent = 3 - player\n",
        "  y = y0 + ray[0]\n",
        "  x = x0 + ray[1]\n",
        "\n",
        "  if x < 0 or y < 0 or x >= 8 or y >= 8 or board[y, x] != opponent:\n",
        "    return False\n",
        "    \n",
        "  y += ray[0]\n",
        "  x += ray[1]\n",
        "  while x >= 0 and y >= 0 and x < 8 and y < 8:\n",
        "    if board[y, x] == 0:\n",
        "      return False\n",
        "    \n",
        "    if board[y, x] == player:    \n",
        "      return True\n",
        "    \n",
        "    y += ray[0]\n",
        "    x += ray[1]\n",
        "    \n",
        "  return False"
      ],
      "execution_count": 32,
      "outputs": []
    },
    {
      "cell_type": "code",
      "metadata": {
        "id": "8x8XNwA6E4hW",
        "cellView": "form"
      },
      "source": [
        "#@title find_valid_actions\n",
        "@cuda.jit\n",
        "def find_valid_actions(boards, player, valid_actions):\n",
        "  rays = cuda.const.array_like(RAYS)\n",
        "\n",
        "  tx = cuda.threadIdx.x\n",
        "  ty = cuda.threadIdx.y\n",
        "  bx = cuda.blockIdx.x\n",
        "  \n",
        "  # space isn't empty, invalid move\n",
        "  if boards[bx, ty, tx] != 0:\n",
        "    valid_actions[bx, ty, tx] = 0\n",
        "    return\n",
        "\n",
        "  opponent = 3 - player\n",
        "  for i in range(8):\n",
        "    hit = ray_cast(boards[bx], ty, tx, rays[i], player)\n",
        "    if hit:\n",
        "      valid_actions[bx, ty, tx] = 1\n",
        "      return\n",
        "\n",
        "  valid_actions[bx, ty, tx] = 0"
      ],
      "execution_count": 33,
      "outputs": []
    },
    {
      "cell_type": "code",
      "metadata": {
        "cellView": "form",
        "id": "W61ir39nDFlC"
      },
      "source": [
        "#@title apply_ucb\n",
        "@cuda.jit\n",
        "def apply_ucb(q_values, edge_visits, board_visits, policies, board_ids, cpuct, valid_actions):\n",
        "  tx = cuda.threadIdx.x\n",
        "  ty = cuda.threadIdx.y\n",
        "  bx = cuda.blockIdx.x\n",
        "  b_id = board_ids[bx]\n",
        "\n",
        "  ucb = (q_values[bx, b_id, ty, tx] +\n",
        "         cpuct * policies[bx, b_id, ty, tx] *\n",
        "         math.sqrt(board_visits[bx, b_id] + EPS) / \n",
        "         (1 + edge_visits[bx, b_id, ty, tx]))\n",
        "  valid_actions[bx, ty, tx] *= ucb"
      ],
      "execution_count": 34,
      "outputs": []
    },
    {
      "cell_type": "code",
      "metadata": {
        "cellView": "form",
        "id": "vuOdzRDRNEar"
      },
      "source": [
        "#@title select_action\n",
        "@cuda.jit\n",
        "def select_action(valid_actions, actions):  \n",
        "  row_max = cuda.shared.array(shape=(8,), dtype=float32)\n",
        "  row_max_idx = cuda.shared.array(shape=(8,), dtype=int32)\n",
        "  \n",
        "  tx = cuda.threadIdx.x  \n",
        "  bx = cuda.blockIdx.x\n",
        "\n",
        "  # argmax reduction part 1\n",
        "  current_max = -math.inf\n",
        "  current_idx = 0\n",
        "  for i in range(8):\n",
        "    action_value = valid_actions[bx, tx, i]\n",
        "    if action_value != 0 and action_value > current_max:\n",
        "      current_max = action_value\n",
        "      current_idx = i\n",
        "  \n",
        "  row_max[tx] = current_max\n",
        "  row_max_idx[tx] = current_idx\n",
        "  cuda.syncthreads()\n",
        "  \n",
        "  # argmax reduction part 2\n",
        "  if tx == 0:\n",
        "    current_max = -math.inf\n",
        "    current_idx = 0\n",
        "    for i in range(8):\n",
        "      action_value = row_max[i]\n",
        "      if action_value != 0 and action_value > current_max:\n",
        "        current_max = action_value\n",
        "        current_idx = i\n",
        "    \n",
        "    y_idx = -1\n",
        "    x_idx = -1\n",
        "    if current_max != 0 and current_max > -math.inf:\n",
        "      y_idx = current_idx\n",
        "      x_idx = row_max_idx[current_idx]\n",
        "    \n",
        "    actions[bx] = y_idx, x_idx"
      ],
      "execution_count": 35,
      "outputs": []
    },
    {
      "cell_type": "code",
      "metadata": {
        "id": "M-mk8NjYRIBu",
        "cellView": "form"
      },
      "source": [
        "#@title step\n",
        "@cuda.jit\n",
        "def step(boards, actions, player, player_status):\n",
        "  rays = cuda.const.array_like(RAYS)\n",
        "\n",
        "  tx = cuda.threadIdx.x\n",
        "  bx = cuda.blockIdx.x  \n",
        "\n",
        "  # execute action and update game state\n",
        "  opponent = 3 - player\n",
        "  act_y, act_x = actions[bx]\n",
        "\n",
        "  if act_x == -1:\n",
        "    if tx == 0:\n",
        "      player_status[bx][player-1] = 1\n",
        "    return\n",
        "\n",
        "  r = rays[tx]\n",
        "  hit = ray_cast(boards[bx], act_y, act_x, r, player)\n",
        "  if hit:    \n",
        "    y = act_y + r[0]\n",
        "    x = act_x + r[1]\n",
        "    while boards[bx, y, x] == opponent:\n",
        "      boards[bx, y, x] = player\n",
        "      y += r[0]\n",
        "      x += r[1]\n",
        "      \n",
        "  \n",
        "  if tx == 0:\n",
        "    boards[bx, act_y, act_x] = player    \n",
        "    player_status[bx][player-1] = 0"
      ],
      "execution_count": 36,
      "outputs": []
    },
    {
      "cell_type": "code",
      "metadata": {
        "cellView": "form",
        "id": "uK13vo-x5Rvl"
      },
      "source": [
        "#@title q_update\n",
        "@cuda.jit\n",
        "def q_update(board_ids, actions, rewards, max_steps, q_values, edge_visits, board_visits):\n",
        "  tid = cuda.grid(1)\n",
        "\n",
        "  reward = rewards[tid]\n",
        "  for i in range(max_steps):  \n",
        "    s_tm1 = board_ids[i, tid]\n",
        "    if s_tm1 == -1:\n",
        "      continue\n",
        "    \n",
        "    reward = -reward\n",
        "    a_tm1_y, a_tm1_x = actions[i, tid]\n",
        "    if a_tm1_y == -1:\n",
        "      continue\n",
        "  \n",
        "    q_sa = q_values[tid, s_tm1, a_tm1_y, a_tm1_x]\n",
        "    n_sa = edge_visits[tid, s_tm1, a_tm1_y, a_tm1_x]\n",
        "\n",
        "    q_values[tid, s_tm1, a_tm1_y, a_tm1_x] = (n_sa * q_sa + reward) / (n_sa + 1)\n",
        "    \n",
        "    edge_visits[tid, s_tm1, a_tm1_y, a_tm1_x] += 1\n",
        "    board_visits[tid, s_tm1] += 1"
      ],
      "execution_count": 37,
      "outputs": []
    },
    {
      "cell_type": "code",
      "metadata": {
        "cellView": "form",
        "id": "CbVypNDMEFjX"
      },
      "source": [
        "#@title policy_update\n",
        "@cuda.jit\n",
        "def policy_update(update_ids, new_policies, policies):\n",
        "  tx = cuda.threadIdx.x\n",
        "  ty = cuda.threadIdx.y\n",
        "  bx = cuda.blockIdx.x\n",
        "\n",
        "  g_id, b_id = update_ids[bx]\n",
        "  policies[g_id, b_id, ty, tx] = new_policies[bx, ty, tx]"
      ],
      "execution_count": 38,
      "outputs": []
    },
    {
      "cell_type": "code",
      "metadata": {
        "cellView": "form",
        "id": "gwweblYgv7CR"
      },
      "source": [
        "#@title board_lookup\n",
        "@cuda.jit\n",
        "def board_lookup(hashes, table_entries, table_lengths, board_ids):  \n",
        "  # naive version  \n",
        "  tid = cuda.grid(1)\n",
        "\n",
        "  cap = table_lengths[tid]\n",
        "  board_hash = hashes[tid]\n",
        "\n",
        "  for i in range(cap):\n",
        "    if table_entries[tid, i] == board_hash:\n",
        "      board_ids[tid] = i\n",
        "      return\n",
        "\n",
        "  board_ids[tid] = -1"
      ],
      "execution_count": 39,
      "outputs": []
    },
    {
      "cell_type": "markdown",
      "metadata": {
        "id": "DpdcYBSidYKY"
      },
      "source": [
        "# Neural Network"
      ]
    },
    {
      "cell_type": "code",
      "metadata": {
        "cellView": "form",
        "id": "pio1mtd-dayY"
      },
      "source": [
        "#@title OthelloNNet\n",
        "class OthelloNNet(nn.Module):\n",
        "    def __init__(self, dropout=0.3):\n",
        "        super().__init__()\n",
        "        self.dropout = dropout\n",
        "\n",
        "        self.fc1 = nn.Linear(8*8, 256)\n",
        "        self.fc2 = nn.Linear(256, 256)\n",
        "        self.fc3 = nn.Linear(256, 64)\n",
        "        self.fc4 = nn.Linear(256, 1)        \n",
        "\n",
        "    def forward(self, s):\n",
        "        #                                      s: batch_size x board_x x board_y\n",
        "        s = s.view(-1, 8*8)                # batch_size x 1 x board_x x board_y        \n",
        "        s = F.dropout(F.relu(self.fc1(s)), p=self.dropout, training=self.training)  # batch_size x num_channels x 2\n",
        "        s = F.dropout(F.relu(self.fc2(s)), p=self.dropout, training=self.training)  # batch_size x num_channels \n",
        "        pi = self.fc3(s)                                                                         # batch_size x action_size\n",
        "        v = self.fc4(s)                                                                          # batch_size x 1\n",
        "\n",
        "        return F.log_softmax(pi, dim=1), torch.tanh(v)"
      ],
      "execution_count": 40,
      "outputs": []
    },
    {
      "cell_type": "markdown",
      "metadata": {
        "id": "5nf_fwRIcGB8"
      },
      "source": [
        "# Setup and Utilities"
      ]
    },
    {
      "cell_type": "code",
      "metadata": {
        "id": "XJchKTd6NYVW",
        "cellView": "form"
      },
      "source": [
        "#@title device array pre-allocation\n",
        "# state\n",
        "boards = cuda.device_array(shape=(N_GAMES, 8, 8), dtype=np.float32)\n",
        "player_status = cuda.device_array(shape=(N_GAMES, 2), dtype=np.uint8)\n",
        "sim_boards = cuda.device_array(shape=(N_GAMES, 8, 8), dtype=np.float32)\n",
        "sim_player_status = cuda.device_array(shape=(N_GAMES, 2), dtype=np.uint8)\n",
        "\n",
        "# intermediates\n",
        "valid_actions = cuda.device_array(shape=(N_GAMES, 8, 8), dtype=np.float32)\n",
        "actions = cuda.device_array(shape=(N_GAMES, 2), dtype=np.int32)\n",
        "board_ids = cuda.device_array(shape=(N_GAMES,), dtype=np.int32)\n",
        "\n",
        "# mcts\n",
        "q_values = cuda.device_array(shape=(N_GAMES, MAX_STATES, 8, 8), dtype=np.float32)  # Q(s,a)\n",
        "edge_visits = cuda.device_array(shape=(N_GAMES, MAX_STATES, 8, 8), dtype=np.uint16)  # N(s,a)\n",
        "board_visits = cuda.device_array(shape=(N_GAMES, MAX_STATES), dtype=np.uint16)  # N(s)\n",
        "policies = cuda.device_array(shape=(N_GAMES, MAX_STATES, 8, 8), dtype=np.float32)  # P(s)"
      ],
      "execution_count": 41,
      "outputs": []
    },
    {
      "cell_type": "code",
      "metadata": {
        "cellView": "form",
        "id": "T1Jzx_3r7bWc"
      },
      "source": [
        "#@title utility methods\n",
        "def uniform_policy(state):\n",
        "  p = np.ones((len(state), 8, 8)) / 64\n",
        "  v = np.zeros(len(state))\n",
        "  return p, v\n",
        "\n",
        "def random_policy(state):\n",
        "  p = np.random.rand(len(state),8,8)\n",
        "  p = np.exp(p) / np.sum(np.exp(p), axis=(1,2)).reshape(-1,1,1)\n",
        "  \n",
        "  return p.astype(np.float32), np.tanh(np.random.randn(len(state))).astype(np.float32)\n",
        "\n",
        "def hash_boards(boards):\n",
        "  return np.array([hash(b.tobytes()) for b in boards], dtype=np.uint64)\n",
        "\n",
        "def is_game_over(boards, status):\n",
        "  check = np.where(boards == 0)[0]\n",
        "  no_moves = np.array([i not in check for i in range(len(boards))])\n",
        "  all_passed = (np.sum(status, axis=1) == 2)\n",
        "  return no_moves | all_passed\n",
        "\n",
        "def score_game(boards, planner):\n",
        "  scores = np.array([np.bincount(b.flatten().astype(int), minlength=3)[1:] \n",
        "                     for b in boards])\n",
        "  result = -1*np.ones(len(boards))\n",
        "  result[scores[:, planner-1] > scores[:, np.abs(planner-2)]] = 1  \n",
        "  return result"
      ],
      "execution_count": 42,
      "outputs": []
    },
    {
      "cell_type": "markdown",
      "metadata": {
        "id": "7Gsg-8LU7Vbu"
      },
      "source": [
        "# MCTS"
      ]
    },
    {
      "cell_type": "code",
      "metadata": {
        "cellView": "form",
        "id": "bVWq7mdiJ57q"
      },
      "source": [
        "#@title search\n",
        "def search(eval_boards, eval_status, eval_player, table_entries, table_lengths, net):\n",
        "\n",
        "  def get_policy(boards):\n",
        "    # pi, v = net(torch.from_numpy(boards.astype(np.float32)))\n",
        "    pi, v = net(torch.as_tensor(sim_boards, device='cuda'))\n",
        "    return pi.view(-1,8,8).cpu().numpy(), v.view(-1).cpu().numpy()\n",
        "\n",
        "  for s in range(N_SIMULATIONS):\n",
        "    # initialize the simulation\n",
        "    cuda.to_device(eval_boards, to=sim_boards)\n",
        "    cuda.to_device(eval_status, to=sim_player_status)  \n",
        "    sim_player = eval_player\n",
        "    cpuct = 1\n",
        "    \n",
        "    # setup trajectory log\n",
        "    sim_board_ids = []\n",
        "    sim_actions = []\n",
        "    sim_rewards = np.nan*np.ones(N_GAMES, np.float32)\n",
        "\n",
        "    t = 0    \n",
        "    while True:\n",
        "      _status = sim_player_status.copy_to_host()\n",
        "      _boards = sim_boards.copy_to_host()\n",
        "\n",
        "      terminals = is_game_over(_boards, _status)\n",
        "      terminals[~np.isnan(sim_rewards)] = False\n",
        "\n",
        "      if np.any(terminals):\n",
        "        sim_rewards[terminals] = score_game(_boards[terminals], eval_player)\n",
        "      \n",
        "      if np.all(~np.isnan(sim_rewards)):\n",
        "        break\n",
        "\n",
        "      hashes = hash_boards(_boards)\n",
        "      board_lookup[N_GAMES, 1](hashes, table_entries, table_lengths, board_ids)\n",
        "      _board_ids = board_ids.copy_to_host()            \n",
        "      leaves = np.array([b == -1 for b in _board_ids])\n",
        "      leaves[~np.isnan(sim_rewards)] = False      \n",
        "      \n",
        "      if np.any(leaves):        \n",
        "        # add new boards to cache\n",
        "        _board_ids[leaves] = table_lengths[leaves]\n",
        "        table_lengths[leaves] += 1                \n",
        "        table_entries[leaves, _board_ids[leaves]] = hashes[leaves]\n",
        "\n",
        "        # compute policy/value from NN and update        \n",
        "        pred_policy, pred_value = get_policy(sim_boards)#leaves)#_boards[leaves])\n",
        "        update_ids = np.stack((leaves.nonzero()[0], _board_ids[leaves]), axis=1)\n",
        "        policy_update[len(update_ids), (8,8)](update_ids, \n",
        "                                              pred_policy[leaves], \n",
        "                                              policies)\n",
        "        sim_rewards[leaves] = pred_value[leaves]\n",
        "\n",
        "      # if all our games have rewards after leaf node check, we are finished\n",
        "      if np.all(~np.isnan(sim_rewards)):\n",
        "        break\n",
        "\n",
        "      # determine best action      \n",
        "      find_valid_actions[N_GAMES, (8,8)](sim_boards, sim_player, valid_actions)   \n",
        "      apply_ucb[N_GAMES, (8,8)](q_values, edge_visits, board_visits, policies, board_ids, cpuct, valid_actions)      \n",
        "      select_action[N_GAMES, 8](valid_actions, actions)      \n",
        "      step[N_GAMES, 8](sim_boards, actions, sim_player, sim_player_status)\n",
        "      sim_player = 3 - sim_player\n",
        "\n",
        "      # if we've received a reward, the forward pass is over for that game    \n",
        "      _board_ids[~np.isnan(sim_rewards)] = -1      \n",
        "\n",
        "      # log trajectory\n",
        "      sim_board_ids.append(_board_ids)\n",
        "      sim_actions.append(actions.copy_to_host())\n",
        "      t += 1\n",
        "    if s+1 % 100 == 0:\n",
        "      print(f\"sim {s} played {t} steps\")\n",
        "    \n",
        "    # if we've seen at least one set of board/action pair, we backup the reward\n",
        "    # values\n",
        "    if len(sim_board_ids) > 0:\n",
        "      sim_board_ids = np.flipud(np.stack(sim_board_ids, axis=0)).astype(np.int32)\n",
        "      sim_actions = np.flipud(np.stack(sim_actions, axis=0)).astype(np.int32)\n",
        "      q_update[N_GAMES, 1](sim_board_ids, sim_actions, sim_rewards, len(sim_board_ids),\n",
        "                          q_values, edge_visits, board_visits)"
      ],
      "execution_count": 43,
      "outputs": []
    },
    {
      "cell_type": "code",
      "metadata": {
        "cellView": "form",
        "id": "f8xMGxQU6-WM"
      },
      "source": [
        "#@title get_action_probabilities\n",
        "def get_action_probabilities(boards, player_status, player, temperature, table_entries, table_lengths, net):\n",
        "  # tic = time.time()\n",
        "  # print('searching')\n",
        "  search(boards, player_status, player, table_entries, table_lengths, net)\n",
        "  # print(f\"search (n_sim={N_SIMULATIONS}): {time.time()-tic}s\")\n",
        "\n",
        "  hashes = hash_boards(boards.copy_to_host())\n",
        "  board_lookup[N_GAMES, 1](hashes, table_entries, table_lengths, board_ids)\n",
        "  counts = edge_visits.copy_to_host()[range(N_GAMES), board_ids.copy_to_host()]\n",
        "  passed = np.where(np.sum(counts, axis=(1,2)) == 0)\n",
        "  if temperature == 0:    \n",
        "    # greedy strategy\n",
        "    best = np.unravel_index(np.argmax(counts.reshape(N_GAMES, -1), axis=1), (8,8))\n",
        "    probs = np.zeros((N_GAMES, 8, 8))\n",
        "    probs[range(N_GAMES), best[0], best[1]] = 1\n",
        "  else:\n",
        "    probs = counts / np.sum(counts, axis=(1,2)).reshape(-1, 1, 1)\n",
        "  probs[passed] = 0\n",
        "  return probs\n"
      ],
      "execution_count": 44,
      "outputs": []
    },
    {
      "cell_type": "code",
      "metadata": {
        "cellView": "form",
        "id": "Pc0cR2Je65gq"
      },
      "source": [
        "#@title run_games\n",
        "def run_games(net):\n",
        "  # initialize game  \n",
        "  board = np.zeros((8, 8), dtype=np.float32)\n",
        "  board[[3, 4], [4, 3]] = 1\n",
        "  board[[3, 4], [3, 4]] = 2\n",
        "  player = 1\n",
        "\n",
        "  cuda.to_device(np.tile(board, (N_GAMES, 1, 1)), to=boards)\n",
        "  cuda.to_device(np.zeros((N_GAMES, 2), dtype=np.uint8), to=player_status)\n",
        "\n",
        "  # initialize MCTS  \n",
        "  table_entries = cuda.pinned_array((N_GAMES, MAX_STATES), dtype=np.uint64)\n",
        "  table_entries[:] = 0\n",
        "  table_lengths = cuda.pinned_array((N_GAMES,), dtype=np.int32)\n",
        "  table_lengths[:] = 0\n",
        "  cuda.to_device(np.zeros((N_GAMES, MAX_STATES, 8, 8), dtype=np.float32), to=q_values)\n",
        "  cuda.to_device(np.zeros((N_GAMES, MAX_STATES, 8, 8), dtype=np.uint16), to=edge_visits)\n",
        "  cuda.to_device(np.zeros((N_GAMES, MAX_STATES), dtype=np.uint16), to=board_visits)\n",
        "  cuda.to_device(np.zeros((N_GAMES, MAX_STATES, 8, 8), dtype=np.float32), to=policies)\n",
        "  cpuct = 1\n",
        "\n",
        "  t = 0\n",
        "  _boards = boards.copy_to_host()\n",
        "  _status = player_status.copy_to_host()\n",
        "  pbar = tqdm(total=60)\n",
        "  while ~np.all(is_game_over(_boards, _status)):    \n",
        "    if t >= 60:\n",
        "      pbar.total += 1\n",
        "    tic = time.time()\n",
        "    temperature = int(t < 15)\n",
        "    pi = get_action_probabilities(boards, player_status, player, temperature, table_entries, table_lengths, net)\n",
        "    # collect_training_samples()    \n",
        "    _actions = -1*np.ones((N_GAMES, 2), dtype=np.int32)\n",
        "    for i, p in enumerate(pi):\n",
        "      if np.sum(p) == 0:\n",
        "        continue\n",
        "      _p = p.flatten()      \n",
        "      # print(_p)\n",
        "      _actions[i] = np.unravel_index(np.random.choice(len(_p), p=_p), (8,8))\n",
        "    # print(_actions)\n",
        "    step[N_GAMES, 8](boards, _actions, player, player_status)\n",
        "    player = 3-player    \n",
        "    t += 1\n",
        "    # print(f\"turn {t} took {time.time()-tic}s\")\n",
        "    _boards = boards.copy_to_host()\n",
        "    _status = player_status.copy_to_host()\n",
        "    pbar.update(1)    \n",
        "  pbar.close()\n",
        "  print(_boards)\n",
        "  print(score_game(_boards, 1))"
      ],
      "execution_count": 45,
      "outputs": []
    },
    {
      "cell_type": "markdown",
      "metadata": {
        "id": "cgQ_0qTmt8RO"
      },
      "source": [
        "# Training"
      ]
    },
    {
      "cell_type": "code",
      "metadata": {
        "id": "YTi1bHNZkB1N"
      },
      "source": [
        "net = OthelloNNet().cuda()\n",
        "with torch.no_grad():\n",
        "  # this ensures dropout is applied. we need some stochasticity otherwise all\n",
        "  # parallel games will play out the same. \n",
        "  net.train()\n",
        "  run_games(net)"
      ],
      "execution_count": null,
      "outputs": []
    },
    {
      "cell_type": "markdown",
      "metadata": {
        "id": "Fq38eKnLgT9Y"
      },
      "source": [
        "# Kernel Tests"
      ]
    },
    {
      "cell_type": "code",
      "metadata": {
        "colab": {
          "base_uri": "https://localhost:8080/"
        },
        "cellView": "form",
        "id": "lGS3OlOGiGKj",
        "outputId": "60b8e21a-d67a-49c9-cd0e-210419a6d214"
      },
      "source": [
        "#@title valid action test\n",
        "def test_find_valid_action():\n",
        "  board = np.zeros((1, 8, 8), dtype=np.float32)\n",
        "  board[[0, 0], [3, 4], [3, 4]] = 2\n",
        "  board[[0, 0], [3, 4], [4, 3]] = 1\n",
        "\n",
        "  valid_actions = cuda.device_array(shape=(1, 8, 8), dtype=np.float32)\n",
        "\n",
        "  find_valid_actions[1, (8,8)](board, 1, valid_actions)\n",
        "  result = valid_actions.copy_to_host()\n",
        "  expected = np.zeros((1,8,8))\n",
        "  expected[[0,0,0,0],[2,3,4,5],[3,2,5,4]] = 1\n",
        "  assert np.allclose(result, expected)\n",
        "\n",
        "  find_valid_actions[1, (8,8)](board, 2, valid_actions)\n",
        "  result = valid_actions.copy_to_host()\n",
        "\n",
        "  expected = {(2, 4), (3, 5), (4, 2), (5, 3)}\n",
        "  expected = np.zeros((1,8,8))\n",
        "  expected[[0,0,0,0],[2,3,4,5],[4,5,2,3]] = 1\n",
        "  assert np.allclose(result, expected)\n",
        "  print('PASS')\n",
        "  \n",
        "test_find_valid_action()"
      ],
      "execution_count": 45,
      "outputs": [
        {
          "output_type": "stream",
          "text": [
            "PASS\n"
          ],
          "name": "stdout"
        }
      ]
    },
    {
      "cell_type": "code",
      "metadata": {
        "colab": {
          "base_uri": "https://localhost:8080/"
        },
        "cellView": "form",
        "id": "5M1ndLR1kIZ6",
        "outputId": "0d02b5cb-fd00-42d0-b410-73dcba3cba2d"
      },
      "source": [
        "#@title select action test\n",
        "def test_select_action():\n",
        "  actions = cuda.device_array(shape=(1, 2), dtype=np.int32)\n",
        "  \n",
        "  valid_actions = np.zeros((1,8,8))\n",
        "  valid_actions[[0,0,0,0],[2,3,4,5],[3,2,5,4]] = [0.1, 0.2, 0.4, 0.3]\n",
        "  select_action[1, 8](valid_actions, actions)\n",
        "  expected = [[4,5]]\n",
        "  assert np.allclose(actions.copy_to_host(), expected)\n",
        "\n",
        "  valid_actions = np.zeros((1,8,8))\n",
        "  valid_actions[[0,0,0,0],[2,3,4,5],[3,2,5,4]] = [-0.1, -0.2, -0.4, -0.3]\n",
        "  select_action[1, 8](valid_actions, actions)\n",
        "  expected = [[2,3]]\n",
        "  assert np.allclose(actions.copy_to_host(), expected)\n",
        "  \n",
        "  valid_actions = np.zeros((1,8,8))  \n",
        "  select_action[1, 8](valid_actions, actions)\n",
        "  expected = [[-1,-1]]\n",
        "  assert np.allclose(actions.copy_to_host(), expected)\n",
        "\n",
        "  print('PASS')\n",
        "\n",
        "test_select_action()"
      ],
      "execution_count": 46,
      "outputs": [
        {
          "output_type": "stream",
          "text": [
            "PASS\n"
          ],
          "name": "stdout"
        }
      ]
    },
    {
      "cell_type": "code",
      "metadata": {
        "colab": {
          "base_uri": "https://localhost:8080/"
        },
        "cellView": "form",
        "id": "w12FEGJVoG8T",
        "outputId": "65f4d9fa-5962-4b48-fb14-df56a46425ca"
      },
      "source": [
        "#@title step test\n",
        "def test_step():\n",
        "  board = np.zeros((1, 8, 8), dtype=np.float32)\n",
        "  board[[0, 0], [3, 4], [3, 4]] = 2\n",
        "  board[[0, 0], [3, 4], [4, 3]] = 1\n",
        "  boards = cuda.to_device(board)\n",
        "  status = cuda.to_device(np.zeros((1,2), dtype=np.int32))\n",
        "  actions = cuda.to_device(np.array([[4, 5]], dtype=np.int32))\n",
        "  \n",
        "  step[1, 8](boards, actions, 1, status)\n",
        "  expected = np.zeros((1, 8, 8), dtype=np.float32)\n",
        "  expected[[0], [3], [3]] = 2\n",
        "  expected[[0, 0, 0, 0], [3, 4, 4, 4], [4, 3, 4, 5]] = 1\n",
        "  assert np.allclose(boards.copy_to_host(), expected)\n",
        "  assert np.allclose(status.copy_to_host(), [[0,0]])\n",
        "\n",
        "  cuda.to_device(np.array([[3, 5]], dtype=np.int32), to=actions)\n",
        "  step[1, 8](boards, actions, 2, status)\n",
        "  expected[[0, 0, 0], [3, 3, 3], [3, 4, 5]] = 2\n",
        "  assert np.allclose(boards.copy_to_host(), expected)\n",
        "  assert np.allclose(status.copy_to_host(), [[0,0]])\n",
        "\n",
        "  cuda.to_device(np.array([[2, 3]], dtype=np.int32), to=actions)\n",
        "  step[1, 8](boards, actions, 1, status)\n",
        "  expected[[0, 0, 0], [2, 3, 3], [3, 3, 4]] = 1\n",
        "  assert np.allclose(boards.copy_to_host(), expected)\n",
        "  assert np.allclose(status.copy_to_host(), [[0,0]])\n",
        "\n",
        "  cuda.to_device(np.array([[-1, -1]], dtype=np.int32), to=actions)\n",
        "  step[1, 8](boards, actions, 1, status)\n",
        "  assert np.allclose(boards.copy_to_host(), expected)\n",
        "  assert np.allclose(status.copy_to_host(), [[1,0]])\n",
        "\n",
        "  cuda.to_device(np.array([[-1, -1]], dtype=np.int32), to=actions)\n",
        "  step[1, 8](boards, actions, 2, status)\n",
        "  assert np.allclose(boards.copy_to_host(), expected)\n",
        "  assert np.allclose(status.copy_to_host(), [[1,1]])\n",
        "\n",
        "  print('PASS')\n",
        "\n",
        "test_step()"
      ],
      "execution_count": 47,
      "outputs": [
        {
          "output_type": "stream",
          "text": [
            "PASS\n"
          ],
          "name": "stdout"
        }
      ]
    },
    {
      "cell_type": "code",
      "metadata": {
        "colab": {
          "base_uri": "https://localhost:8080/"
        },
        "cellView": "form",
        "id": "R9ysGngVq5Ou",
        "outputId": "f0438d7b-23ab-4fad-e71e-66fd8b9e636d"
      },
      "source": [
        "#@title apply ucb test\n",
        "def test_apply_ucb():\n",
        "  q_values = cuda.to_device(np.zeros((1, 2, 8, 8), dtype=np.float32))\n",
        "  edge_visits = cuda.to_device(np.zeros((1, 2, 8, 8), dtype=np.float32))\n",
        "  board_visits = cuda.to_device(np.zeros((1, 2), dtype=np.float32))\n",
        "  \n",
        "  _policies = np.zeros((1, 2, 8, 8), dtype=np.float32)\n",
        "  _policies[[0,0,0,0],[0,0,0,0],[2,3,4,5],[3,2,5,4]] = 0.25\n",
        "  policies = cuda.to_device(_policies)\n",
        "\n",
        "  v_actions = np.zeros((1,8,8), dtype=np.float32)\n",
        "  v_actions[[0,0,0,0],[2,3,4,5],[3,2,5,4]] = 1.0\n",
        "  valid_actions = cuda.to_device(v_actions)\n",
        "\n",
        "  board_ids = cuda.to_device(np.array([0], dtype=np.int32))\n",
        "  apply_ucb[1, (8,8)](q_values, edge_visits, board_visits, policies, board_ids, 1, valid_actions)\n",
        "  \n",
        "  expected = np.zeros((1,8,8), dtype=np.float32)\n",
        "  expected[[0,0,0,0],[2,3,4,5],[3,2,5,4]] = 0.25*np.sqrt(EPS)\n",
        "  assert np.allclose(valid_actions.copy_to_host(), expected)\n",
        "\n",
        "  v_actions = np.zeros((1,8,8), dtype=np.float32)\n",
        "  v_actions[[0,0,0,0],[2,3,4,5],[3,2,5,4]] = 1.0\n",
        "  valid_actions = cuda.to_device(v_actions)\n",
        "\n",
        "  _temp = np.zeros((1, 2, 8, 8), dtype=np.float32)\n",
        "  _temp[[0],[0],[2],[3]] = 1\n",
        "  cuda.to_device(_temp, to=edge_visits)\n",
        "  _temp = np.zeros((1, 2), dtype=np.float32)\n",
        "  _temp[[0],[0]] = 1\n",
        "  cuda.to_device(_temp, to=board_visits)\n",
        "  apply_ucb[1, (8,8)](q_values, edge_visits, board_visits, policies, board_ids, 1, valid_actions)\n",
        "\n",
        "  expected = np.zeros((1,8,8), dtype=np.float32)\n",
        "  expected[[0,0,0,0],[2,3,4,5],[3,2,5,4]] = [0.125, 0.25, 0.25, 0.25]\n",
        "  assert np.allclose(valid_actions.copy_to_host(), expected)\n",
        "\n",
        "  print('PASS')\n",
        "  \n",
        "test_apply_ucb()"
      ],
      "execution_count": 84,
      "outputs": [
        {
          "output_type": "stream",
          "text": [
            "PASS\n"
          ],
          "name": "stdout"
        }
      ]
    },
    {
      "cell_type": "code",
      "metadata": {
        "colab": {
          "base_uri": "https://localhost:8080/"
        },
        "cellView": "form",
        "id": "7h8Ro6xtCWOv",
        "outputId": "50cc398d-d193-41d1-983c-a38397fd3e89"
      },
      "source": [
        "#@title q update test\n",
        "def test_q_update():\n",
        "  q_values = cuda.to_device(np.zeros((2, 2, 8, 8), dtype=np.float32))\n",
        "  edge_visits = cuda.to_device(np.zeros((2, 2, 8, 8), dtype=np.float32))\n",
        "  board_visits = cuda.to_device(np.zeros((2, 2), dtype=np.float32))\n",
        "\n",
        "  sim_board_ids = np.array([[0, 0]], dtype=np.int32)\n",
        "  sim_actions = np.array([[[2, 3],[2, 3]]], dtype=np.int32)\n",
        "  sim_rewards = np.array([1, -1], dtype=np.float32)  \n",
        "  q_update[2, 1](sim_board_ids, sim_actions, sim_rewards, len(sim_board_ids),\n",
        "                         q_values, edge_visits, board_visits)\n",
        "  expected = np.zeros((2, 2, 8, 8))\n",
        "  expected[[0,1],[0,0],[2,2],[3,3]] = [-1, 1]\n",
        "  assert np.allclose(q_values.copy_to_host(), expected)\n",
        "  expected = np.zeros((2, 2, 8, 8))\n",
        "  expected[[0,1],[0,0],[2,2],[3,3]] = 1\n",
        "  assert np.allclose(edge_visits.copy_to_host(), expected)\n",
        "  expected = np.zeros((2, 2))\n",
        "  expected[[0,1],[0,0]] = 1\n",
        "  assert np.allclose(board_visits.copy_to_host(), expected)\n",
        "\n",
        "  sim_board_ids = np.array([[1, -1], [0, 0]], dtype=np.int32)\n",
        "  sim_actions = np.array([[[2, 5],[2, 3]],[[2, 3],[2, 3]]], dtype=np.int32)\n",
        "  sim_rewards = np.array([0.5, -0.5], dtype=np.float32)  \n",
        "  q_update[2, 1](sim_board_ids, sim_actions, sim_rewards, len(sim_board_ids),\n",
        "                         q_values, edge_visits, board_visits)\n",
        "  \n",
        "  expected = np.zeros((2, 2, 8, 8))\n",
        "  expected[[0],[1],[2],[5]] = -0.5\n",
        "  expected[[0,1],[0,0],[2,2],[3,3]] = [-0.25, 0.75]\n",
        "  # result = q_values.copy_to_host()\n",
        "  # print(result.nonzero())\n",
        "  # print(result[result.nonzero()])\n",
        "  assert np.allclose(q_values.copy_to_host(), expected)\n",
        "  expected = np.zeros((2, 2, 8, 8))\n",
        "  expected[[0,1],[0,0],[2,2],[3,3]] = 2\n",
        "  expected[[0],[1],[2],[5]] = 1\n",
        "  assert np.allclose(edge_visits.copy_to_host(), expected)\n",
        "  expected = np.zeros((2, 2))\n",
        "  expected[[0,1],[0,0]] = 2\n",
        "  expected[[0],[1]] = 1\n",
        "  assert np.allclose(board_visits.copy_to_host(), expected)\n",
        "  \n",
        "  print('PASS')\n",
        "\n",
        "test_q_update()"
      ],
      "execution_count": 96,
      "outputs": [
        {
          "output_type": "stream",
          "text": [
            "PASS\n"
          ],
          "name": "stdout"
        }
      ]
    },
    {
      "cell_type": "code",
      "metadata": {
        "colab": {
          "base_uri": "https://localhost:8080/"
        },
        "cellView": "form",
        "id": "X3O8ko0TaSmD",
        "outputId": "7a4657ba-47d5-47e1-f4ef-3890ee404989"
      },
      "source": [
        "#@title board lookup test\n",
        "def test_board_lookup():\n",
        "  table_entries = np.zeros((2, 2), dtype=np.uint64)\n",
        "  table_lengths = np.zeros((2,), dtype=np.int32)\n",
        "  board_ids = np.zeros((2,), dtype=np.int32)\n",
        "\n",
        "  board = np.zeros((1, 8, 8), dtype=np.float32)\n",
        "  board[[0, 0], [3, 4], [3, 4]] = 2\n",
        "  board[[0, 0], [3, 4], [4, 3]] = 1\n",
        "  hashes = hash_boards([board, board])\n",
        "\n",
        "  board_lookup[N_GAMES, 1](hashes, table_entries, table_lengths, board_ids)\n",
        "  expected = np.array([-1, -1])\n",
        "  assert np.allclose(board_ids, expected)\n",
        "\n",
        "  table_entries[0,0] = hashes[0]\n",
        "  table_entries[1,1] = hashes[0]\n",
        "  table_lengths[0] = 1\n",
        "  table_lengths[1] = 2\n",
        "  board_lookup[N_GAMES, 1](hashes, table_entries, table_lengths, board_ids)\n",
        "  expected = np.array([0, 1])\n",
        "  assert np.allclose(board_ids, expected)\n",
        "\n",
        "  print('PASS')\n",
        "\n",
        "test_board_lookup()"
      ],
      "execution_count": 25,
      "outputs": [
        {
          "output_type": "stream",
          "text": [
            "[0 1]\n",
            "PASS\n"
          ],
          "name": "stdout"
        }
      ]
    }
  ]
}